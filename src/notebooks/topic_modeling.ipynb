{
 "cells": [
  {
   "cell_type": "code",
   "execution_count": 104,
   "metadata": {},
   "outputs": [],
   "source": [
    "import pandas as pd\n",
    "import numpy as np\n",
    "from sklearn.feature_extraction.text import CountVectorizer\n",
    "from sklearn.decomposition import LatentDirichletAllocation\n",
    "from nltk.corpus import stopwords\n",
    "from nltk.stem.wordnet import WordNetLemmatizer\n",
    "import string\n",
    "import gensim\n",
    "from gensim import corpora, models\n",
    "from gensim.models import CoherenceModel\n",
    "import matplotlib.pyplot as plt"
   ]
  },
  {
   "cell_type": "code",
   "execution_count": 16,
   "metadata": {},
   "outputs": [
    {
     "data": {
      "text/html": [
       "<div>\n",
       "<style scoped>\n",
       "    .dataframe tbody tr th:only-of-type {\n",
       "        vertical-align: middle;\n",
       "    }\n",
       "\n",
       "    .dataframe tbody tr th {\n",
       "        vertical-align: top;\n",
       "    }\n",
       "\n",
       "    .dataframe thead th {\n",
       "        text-align: right;\n",
       "    }\n",
       "</style>\n",
       "<table border=\"1\" class=\"dataframe\">\n",
       "  <thead>\n",
       "    <tr style=\"text-align: right;\">\n",
       "      <th></th>\n",
       "      <th>question</th>\n",
       "    </tr>\n",
       "  </thead>\n",
       "  <tbody>\n",
       "    <tr>\n",
       "      <th>0</th>\n",
       "      <td>Kent u het onderzoek van CorporatieNL en USP M...</td>\n",
       "    </tr>\n",
       "    <tr>\n",
       "      <th>1</th>\n",
       "      <td>Wat zijn volgens u de oorzaken dat maar liefst...</td>\n",
       "    </tr>\n",
       "    <tr>\n",
       "      <th>2</th>\n",
       "      <td>Hoe verklaart u dat slechts 9% van de huurders...</td>\n",
       "    </tr>\n",
       "    <tr>\n",
       "      <th>3</th>\n",
       "      <td>Bent u van mening dat gemeenten en woningcorpo...</td>\n",
       "    </tr>\n",
       "    <tr>\n",
       "      <th>4</th>\n",
       "      <td>Kunt u alsnog antwoord geven op de vraag wat u...</td>\n",
       "    </tr>\n",
       "  </tbody>\n",
       "</table>\n",
       "</div>"
      ],
      "text/plain": [
       "                                            question\n",
       "0  Kent u het onderzoek van CorporatieNL en USP M...\n",
       "1  Wat zijn volgens u de oorzaken dat maar liefst...\n",
       "2  Hoe verklaart u dat slechts 9% van de huurders...\n",
       "3  Bent u van mening dat gemeenten en woningcorpo...\n",
       "4  Kunt u alsnog antwoord geven op de vraag wat u..."
      ]
     },
     "execution_count": 16,
     "metadata": {},
     "output_type": "execute_result"
    }
   ],
   "source": [
    "questions = pd.read_csv('../../data/questions.csv')\n",
    "questions.head()"
   ]
  },
  {
   "cell_type": "markdown",
   "metadata": {},
   "source": [
    "## Data Cleaning"
   ]
  },
  {
   "cell_type": "code",
   "execution_count": 28,
   "metadata": {},
   "outputs": [],
   "source": [
    "stop = set(stopwords.words('dutch'))"
   ]
  },
  {
   "cell_type": "code",
   "execution_count": 47,
   "metadata": {},
   "outputs": [],
   "source": [
    "exclude = set(string.punctuation)\n",
    "lemma = WordNetLemmatizer()\n",
    "\n",
    "def clean(doc):\n",
    "    stop_free = \" \".join([i for i in doc.lower().split() if i not in stop])\n",
    "    punc_free = ''.join(ch for ch in stop_free if ch not in exclude)\n",
    "    normalized = \" \".join(lemma.lemmatize(word) for word in punc_free.split())\n",
    "    return normalized\n",
    "\n",
    "questions_clean = [clean(q) for q in questions['question']]        \n"
   ]
  },
  {
   "cell_type": "code",
   "execution_count": 48,
   "metadata": {},
   "outputs": [
    {
     "data": {
      "text/html": [
       "<div>\n",
       "<style scoped>\n",
       "    .dataframe tbody tr th:only-of-type {\n",
       "        vertical-align: middle;\n",
       "    }\n",
       "\n",
       "    .dataframe tbody tr th {\n",
       "        vertical-align: top;\n",
       "    }\n",
       "\n",
       "    .dataframe thead th {\n",
       "        text-align: right;\n",
       "    }\n",
       "</style>\n",
       "<table border=\"1\" class=\"dataframe\">\n",
       "  <thead>\n",
       "    <tr style=\"text-align: right;\">\n",
       "      <th></th>\n",
       "      <th>question</th>\n",
       "    </tr>\n",
       "  </thead>\n",
       "  <tbody>\n",
       "    <tr>\n",
       "      <th>0</th>\n",
       "      <td>Kent u het onderzoek van CorporatieNL en USP M...</td>\n",
       "    </tr>\n",
       "    <tr>\n",
       "      <th>1</th>\n",
       "      <td>Wat zijn volgens u de oorzaken dat maar liefst...</td>\n",
       "    </tr>\n",
       "    <tr>\n",
       "      <th>2</th>\n",
       "      <td>Hoe verklaart u dat slechts 9% van de huurders...</td>\n",
       "    </tr>\n",
       "    <tr>\n",
       "      <th>3</th>\n",
       "      <td>Bent u van mening dat gemeenten en woningcorpo...</td>\n",
       "    </tr>\n",
       "    <tr>\n",
       "      <th>4</th>\n",
       "      <td>Kunt u alsnog antwoord geven op de vraag wat u...</td>\n",
       "    </tr>\n",
       "  </tbody>\n",
       "</table>\n",
       "</div>"
      ],
      "text/plain": [
       "                                            question\n",
       "0  Kent u het onderzoek van CorporatieNL en USP M...\n",
       "1  Wat zijn volgens u de oorzaken dat maar liefst...\n",
       "2  Hoe verklaart u dat slechts 9% van de huurders...\n",
       "3  Bent u van mening dat gemeenten en woningcorpo...\n",
       "4  Kunt u alsnog antwoord geven op de vraag wat u..."
      ]
     },
     "execution_count": 48,
     "metadata": {},
     "output_type": "execute_result"
    }
   ],
   "source": [
    "questions.head()"
   ]
  },
  {
   "cell_type": "code",
   "execution_count": 49,
   "metadata": {},
   "outputs": [
    {
     "data": {
      "text/plain": [
       "['kent onderzoek corporatienl usp marketing consultancy medewerkers woningcorporaties wijkbewoners waaruit somber beeld opdoemt reactie daarop',\n",
       " 'volgens oorzaken liefst 50 corporatieprofessionals zegt leefbaarheid wijken corporatiebezit afgelopen twee jaar achteruit gegaan kunt antwoord toelichten',\n",
       " 'verklaart slechts 9 huurders vooruitgang wijk ziet terwijl 30 huurders spreekt achteruitgang leefbaarheid',\n",
       " 'bent mening gemeenten woningcorporaties voldoende mogelijkheden wijken leefbaar veilig houden maken eerder schreef ‘via wet regelgeving geregeld heeft lokale partijen instrumentarium zorg invulling geven kunt antwoord toelichten',\n",
       " 'kunt alsnog antwoord geven vraag gaat ruim 700000 mensen buurt wonen onvoldoende scoort gebied leefbaarheid indien gaat doen kunt toelichten',\n",
       " 'kunt uitleggen sind 2012 gebeurd leefbaarheid veiligheid wijken vergroten onderzoekers geconstateerd leefbaarheid wijken eerder gelabeld ‘probleemwijk’ ‘krachtwijk’ ‘aandachtswijk’ gestagneerd']"
      ]
     },
     "execution_count": 49,
     "metadata": {},
     "output_type": "execute_result"
    }
   ],
   "source": [
    "questions_clean[0:6]"
   ]
  },
  {
   "cell_type": "markdown",
   "metadata": {},
   "source": [
    "## Topic Modelling"
   ]
  },
  {
   "cell_type": "code",
   "execution_count": 50,
   "metadata": {},
   "outputs": [],
   "source": [
    "vectorizer = CountVectorizer(lowercase=True)\n",
    "questions_vectorized = vectorizer.fit_transform(questions_clean)"
   ]
  },
  {
   "cell_type": "code",
   "execution_count": 79,
   "metadata": {},
   "outputs": [],
   "source": [
    "vocab = vectorizer.get_feature_names()"
   ]
  },
  {
   "cell_type": "code",
   "execution_count": 51,
   "metadata": {},
   "outputs": [
    {
     "name": "stdout",
     "output_type": "stream",
     "text": [
      "iteration: 1 of max_iter: 10\n",
      "iteration: 2 of max_iter: 10\n",
      "iteration: 3 of max_iter: 10\n",
      "iteration: 4 of max_iter: 10\n",
      "iteration: 5 of max_iter: 10\n",
      "iteration: 6 of max_iter: 10\n",
      "iteration: 7 of max_iter: 10\n",
      "iteration: 8 of max_iter: 10\n",
      "iteration: 9 of max_iter: 10\n",
      "iteration: 10 of max_iter: 10\n"
     ]
    }
   ],
   "source": [
    "lda = LatentDirichletAllocation(n_components=10, max_iter=10, learning_method='online',verbose=True)\n",
    "data_lda = lda.fit_transform(questions_vectorized)"
   ]
  },
  {
   "cell_type": "code",
   "execution_count": 52,
   "metadata": {},
   "outputs": [],
   "source": [
    "# Functions for printing keywords for each topic\n",
    "def selected_topics(model, vectorizer, top_n=10):\n",
    "    for idx, topic in enumerate(model.components_):\n",
    "        print(\"Topic %d:\" % (idx))\n",
    "        print([(vectorizer.get_feature_names()[i], topic[i])\n",
    "                        for i in topic.argsort()[:-top_n - 1:-1]]) "
   ]
  },
  {
   "cell_type": "code",
   "execution_count": 53,
   "metadata": {},
   "outputs": [
    {
     "name": "stdout",
     "output_type": "stream",
     "text": [
      "LDA Model:\n",
      "Topic 0:\n",
      "[('zembla', 1.1155510559779716), ('vluchtelingen', 1.1121263848866334), ('juist', 1.1056026407996664), ('hele', 1.1055716784398344), ('nederland', 1.1032006034228532), ('vluchtelingenkinderen', 1.1020891569137001), ('gevallen', 1.0982489551698171), ('welkom', 1.095523510694755), ('30', 1.0917990533593698), ('reactie', 1.0883394182807713)]\n",
      "Topic 1:\n",
      "[('gaat', 2.7267021144000436), ('kunt', 2.676519400602411), ('groot', 1.8887152643351424), ('welke', 1.88780397351835), ('pogingen', 1.8757177512350869), ('betreft', 1.87183753676599), ('zoals', 1.1371654711934107), ('waaruit', 1.1327409078009503), ('wonen', 1.1230878745877901), ('ministerie', 1.1227568218221389)]\n",
      "Topic 2:\n",
      "[('waarom', 2.7250377701982433), ('mening', 1.9092304506466007), ('rechten', 1.9055926410325346), ('huidige', 1.9019170989058136), ('bent', 1.900816883870706), ('welke', 1.8888185257069665), ('heer', 1.8884047734473188), ('singh', 1.886940765335194), ('vertrouwelijk', 1.1396934399317575), ('chantage', 1.1300096649435765)]\n",
      "Topic 3:\n",
      "[('vraag', 1.9446549517459184), ('geven', 1.1254825646306301), ('toelichting', 1.104379138124734), ('ontkennend', 1.0948780091134724), ('evenwichtige', 1.0887706256135834), ('kunt', 1.0883027034669157), ('overeenstemming', 1.084317639312955), ('bestendig', 1.082877162785493), ('premiedekkingsgraad', 1.08279344714653), ('beantwoordt', 1.08173983785021)]\n",
      "Topic 4:\n",
      "[('ministerie', 1.9090095702508671), ('ontvangen', 1.1316975520425159), ('buitenland', 1.1230005731631794), ('gedetineerden', 1.1110929652991957), ('komen', 1.1070126362026347), ('honderd', 1.1047951900373472), ('langer', 1.1043351782060071), ('kennisgenomen', 1.095326784744214), ('weigert', 1.0904890689679818), ('ver', 1.0898697434416251)]\n",
      "Topic 5:\n",
      "[('ministerie', 1.9074035426560383), ('bewijzen', 1.1344876823139405), ('toelichten', 1.1300111016239973), ('lokale', 1.118091172138469), ('regelgeving', 1.1172684341654362), ('plaatsen', 1.1125436003699476), ('houden', 1.1099483657664515), ('belemmeren', 1.1062043769609364), ('stellen', 1.1040117701796774), ('mening', 1.1033692468085596)]\n",
      "Topic 6:\n",
      "[('premieregeling', 0.3373319617720521), ('hele', 0.33585618488268865), ('inspanningsverplichtingen', 0.3322305512876736), ('verwacht', 0.3299436001505974), ('bericht', 0.3297005561534366), ('grens', 0.32743753884895266), ('houden', 0.3264719527575248), ('inspanningsverplichting', 0.32432577383183714), ('gevallen', 0.3241269599206556), ('buitenland', 0.3237375544720018)]\n",
      "Topic 7:\n",
      "[('wijken', 3.550939943877972), ('leefbaarheid', 3.5318558313152053), ('bereid', 3.5095166358879695), ('bent', 3.4839995920994338), ('inkomensgrens', 2.741362610189798), ('30', 2.7255057073802744), ('sociale', 2.7025350418248566), ('mogelijk', 2.6928258679917), ('acht', 2.6773670700461234), ('jaar', 1.9287497421070412)]\n",
      "Topic 8:\n",
      "[('reactie', 1.9104151233204503), ('vanuit', 1.9063935335413116), ('prisonlaw', 1.8838829651612916), ('gevonden', 1.1310490191729041), ('onafhankelijkheid', 1.1251682997363468), ('opdoemt', 1.1222117959261602), ('leiden', 1.121576324375163), ('kunt', 1.1150319376902367), ('daarop', 1.1103859182776532), ('subsidie', 1.1067847757921285)]\n",
      "Topic 9:\n",
      "[('toepassing', 3.400297375314695), ('rendement', 3.3975584571768502), ('brief', 2.7175411009028423), ('beide', 2.678044060024978), ('heer', 2.677584202545461), ('knot', 2.6500284046702594), ('leiden', 2.64963787567614), ('zowel', 2.635814058938489), ('kunt', 2.631341841304159), ('mening', 2.6305096364172225)]\n"
     ]
    }
   ],
   "source": [
    "print(\"LDA Model:\")\n",
    "selected_topics(lda, vectorizer)"
   ]
  },
  {
   "cell_type": "code",
   "execution_count": 80,
   "metadata": {},
   "outputs": [],
   "source": [
    "topic_words = {}\n",
    "\n",
    "for topic, comp in enumerate(lda.components_):\n",
    "    # for the n-dimensional array \"arr\":\n",
    "    # argsort() returns a ranked n-dimensional array of arr, call it \"ranked_array\"\n",
    "    # which contains the indices that would sort arr in a descending fashion\n",
    "    # for the ith element in ranked_array, ranked_array[i] represents the index of the\n",
    "    # element in arr that should be at the ith index in ranked_array\n",
    "    # ex. arr = [3,7,1,0,3,6]\n",
    "    # np.argsort(arr) -> [3, 2, 0, 4, 5, 1]\n",
    "    # word_idx contains the indices in \"topic\" of the top num_top_words most relevant\n",
    "    # to a given topic ... it is sorted ascending to begin with and then reversed (desc. now)    \n",
    "    word_idx = np.argsort(comp)[::-1][:10]\n",
    "\n",
    "    # store the words most relevant to the topic\n",
    "    topic_words[topic] = [vocab[i] for i in word_idx]\n"
   ]
  },
  {
   "cell_type": "code",
   "execution_count": 81,
   "metadata": {},
   "outputs": [
    {
     "name": "stdout",
     "output_type": "stream",
     "text": [
      "Topic: 0\n",
      "  zembla, vluchtelingen, juist, hele, nederland, vluchtelingenkinderen, gevallen, welkom, 30, reactie\n",
      "Topic: 1\n",
      "  gaat, kunt, groot, welke, pogingen, betreft, zoals, waaruit, wonen, ministerie\n",
      "Topic: 2\n",
      "  waarom, mening, rechten, huidige, bent, welke, heer, singh, vertrouwelijk, chantage\n",
      "Topic: 3\n",
      "  vraag, geven, toelichting, ontkennend, evenwichtige, kunt, overeenstemming, bestendig, premiedekkingsgraad, beantwoordt\n",
      "Topic: 4\n",
      "  ministerie, ontvangen, buitenland, gedetineerden, komen, honderd, langer, kennisgenomen, weigert, ver\n",
      "Topic: 5\n",
      "  ministerie, bewijzen, toelichten, lokale, regelgeving, plaatsen, houden, belemmeren, stellen, mening\n",
      "Topic: 6\n",
      "  premieregeling, hele, inspanningsverplichtingen, verwacht, bericht, grens, houden, inspanningsverplichting, gevallen, buitenland\n",
      "Topic: 7\n",
      "  wijken, leefbaarheid, bereid, bent, inkomensgrens, 30, sociale, mogelijk, acht, jaar\n",
      "Topic: 8\n",
      "  reactie, vanuit, prisonlaw, gevonden, onafhankelijkheid, opdoemt, leiden, kunt, daarop, subsidie\n",
      "Topic: 9\n",
      "  toepassing, rendement, brief, beide, heer, knot, leiden, zowel, kunt, mening\n"
     ]
    }
   ],
   "source": [
    "for topic, words in topic_words.items():\n",
    "    print('Topic: %d' % topic)\n",
    "    print('  %s' % ', '.join(words))"
   ]
  },
  {
   "cell_type": "markdown",
   "metadata": {},
   "source": [
    "## Gensim"
   ]
  },
  {
   "cell_type": "code",
   "execution_count": 56,
   "metadata": {},
   "outputs": [],
   "source": [
    "questions_clean = [clean(q).split() for q in questions['question']]"
   ]
  },
  {
   "cell_type": "code",
   "execution_count": 61,
   "metadata": {},
   "outputs": [
    {
     "name": "stdout",
     "output_type": "stream",
     "text": [
      "[(55, 1), (157, 1), (175, 1), (180, 1), (257, 1), (258, 1), (259, 1), (260, 1), (261, 1), (262, 1)]\n"
     ]
    }
   ],
   "source": [
    "# Build a Dictionary - association word to numeric id\n",
    "dictionary = corpora.Dictionary(questions_clean)\n",
    " \n",
    "# Transform the collection of texts to a numerical form\n",
    "corpus = [dictionary.doc2bow(text) for text in questions_clean]\n",
    " \n",
    "# Have a look at how the 20th document looks like: [(word_id, count), ...]\n",
    "# print(corpus[20])\n",
    "# [(12, 3), (14, 1), (21, 1), (25, 5), (30, 2), (31, 5), (33, 1), (42, 1), (43, 2),  ...\n",
    " \n",
    "# Build the LDA model\n",
    "lda_model = models.LdaModel(corpus=corpus, num_topics=10, id2word=dictionary)\n",
    " \n",
    "# Build the LSI model\n",
    "lsi_model = models.LsiModel(corpus=corpus, num_topics=10, id2word=dictionary)"
   ]
  },
  {
   "cell_type": "code",
   "execution_count": 66,
   "metadata": {},
   "outputs": [
    {
     "name": "stdout",
     "output_type": "stream",
     "text": [
      "LDA Model:\n",
      "Topic #0: 0.032*\"kunt\" + 0.027*\"gaat\" + 0.024*\"toelichten\" + 0.018*\"betreft\" + 0.016*\"leefbaarheid\" + 0.015*\"antwoord\" + 0.015*\"corporatieprofessionals\" + 0.014*\"wijken\" + 0.012*\"alsnog\" + 0.010*\"waar\"\n",
      "Topic #1: 0.015*\"bent\" + 0.015*\"ministerie\" + 0.015*\"30\" + 0.015*\"komen\" + 0.015*\"medisch\" + 0.015*\"subquotum\" + 0.015*\"buitenland\" + 0.015*\"welke\" + 0.015*\"subsidie\" + 0.008*\"zaken\"\n",
      "Topic #2: 0.022*\"inkomensgrens\" + 0.017*\"waarom\" + 0.016*\"huurwoningen\" + 0.015*\"sociale\" + 0.014*\"grens\" + 0.014*\"verhogen\" + 0.014*\"organisatie\" + 0.014*\"zoek\" + 0.013*\"behartigen\" + 0.013*\"buitenlandse\"\n",
      "Topic #3: 0.023*\"rendement\" + 0.017*\"kunt\" + 0.016*\"toepassing\" + 0.016*\"verwachte\" + 0.016*\"verwacht\" + 0.016*\"zowel\" + 0.016*\"pensioenuitkering\" + 0.015*\"gebeurd\" + 0.014*\"leefbaarheid\" + 0.014*\"wijken\"\n",
      "Topic #4: 0.022*\"brief\" + 0.013*\"bent\" + 0.013*\"bereid\" + 0.013*\"deelnemers\" + 0.013*\"unhcr\" + 0.013*\"pensioenwet\" + 0.013*\"rekenrente\" + 0.013*\"risico\" + 0.013*\"incalculeert\" + 0.013*\"voorstellen\"\n",
      "Topic #5: 0.024*\"reactie\" + 0.024*\"prisonlaw\" + 0.021*\"ministerie\" + 0.018*\"vanuit\" + 0.015*\"buitenlandse\" + 0.015*\"toelichten\" + 0.015*\"zaken\" + 0.014*\"kunt\" + 0.011*\"waarom\" + 0.011*\"brief\"\n",
      "Topic #6: 0.022*\"welke\" + 0.022*\"acht\" + 0.022*\"tekorten\" + 0.022*\"unhcr\" + 0.016*\"waarom\" + 0.016*\"bent\" + 0.016*\"worden\" + 0.015*\"bereid\" + 0.015*\"mogelijk\" + 0.012*\"wijken\"\n",
      "Topic #7: 0.021*\"leiden\" + 0.021*\"mening\" + 0.021*\"kans\" + 0.021*\"premieregeling\" + 0.021*\"heer\" + 0.021*\"knot\" + 0.021*\"indexatie\" + 0.021*\"zuivere\" + 0.021*\"alleen\" + 0.021*\"grotere\"\n",
      "Topic #8: 0.015*\"vraag\" + 0.014*\"kunt\" + 0.013*\"plaatsen\" + 0.013*\"waarom\" + 0.012*\"terwijl\" + 0.010*\"30\" + 0.010*\"vluchtelingen\" + 0.010*\"gevallen\" + 0.010*\"hele\" + 0.010*\"hervestigingsquotum\"\n",
      "Topic #9: 0.028*\"mening\" + 0.021*\"heer\" + 0.017*\"waarom\" + 0.014*\"kunt\" + 0.014*\"bent\" + 0.014*\"pensioenwet\" + 0.014*\"zoals\" + 0.014*\"garantie\" + 0.014*\"deelt\" + 0.014*\"singh\"\n",
      "====================\n",
      "LSI Model:\n",
      "Topic #0: 0.326*\"rendement\" + 0.294*\"kunt\" + 0.267*\"toepassing\" + 0.233*\"zowel\" + 0.233*\"verwachte\" + 0.192*\"brief\" + 0.188*\"beide\" + 0.185*\"pensioenuitkering\" + 0.185*\"verwacht\" + 0.152*\"leiden\"\n",
      "Topic #1: -0.279*\"bent\" + -0.228*\"inkomensgrens\" + -0.206*\"mening\" + 0.194*\"rendement\" + -0.173*\"sociale\" + -0.161*\"waarom\" + -0.160*\"ministerie\" + -0.154*\"pensioenwet\" + -0.152*\"huurwoningen\" + -0.152*\"verhogen\"\n",
      "Topic #2: 0.392*\"ministerie\" + 0.286*\"prisonlaw\" + 0.273*\"buitenlandse\" + 0.273*\"zaken\" + -0.198*\"mening\" + 0.167*\"waarom\" + -0.144*\"pensioenwet\" + -0.139*\"toelichten\" + -0.134*\"zoals\" + -0.129*\"garantie\"\n",
      "Topic #3: 0.335*\"inkomensgrens\" + -0.252*\"ministerie\" + 0.243*\"sociale\" + 0.223*\"huurwoningen\" + 0.223*\"verhogen\" + 0.223*\"grens\" + -0.190*\"prisonlaw\" + -0.182*\"zaken\" + -0.182*\"buitenlandse\" + -0.172*\"kunt\"\n",
      "Topic #4: 0.319*\"wijken\" + 0.296*\"leefbaarheid\" + 0.273*\"kunt\" + 0.176*\"antwoord\" + -0.176*\"mening\" + -0.174*\"heer\" + 0.171*\"gaat\" + -0.165*\"garantie\" + -0.158*\"pensioenwet\" + 0.142*\"geven\"\n",
      "Topic #5: 0.385*\"welke\" + -0.239*\"waarom\" + -0.180*\"heer\" + -0.170*\"kunt\" + 0.166*\"acht\" + 0.166*\"bent\" + 0.159*\"30\" + -0.143*\"genoemde\" + 0.137*\"medisch\" + 0.137*\"subquotum\"\n",
      "Topic #6: 0.321*\"waarom\" + 0.316*\"30\" + 0.225*\"heer\" + 0.181*\"medische\" + 0.181*\"vluchtelingen\" + 0.176*\"singh\" + 0.122*\"nederland\" + 0.120*\"genoemde\" + 0.117*\"ervoor\" + 0.117*\"zorgen\"\n",
      "Topic #7: 0.307*\"welke\" + -0.254*\"bent\" + 0.204*\"acht\" + 0.164*\"heer\" + -0.156*\"bereid\" + 0.155*\"wijken\" + 0.146*\"zoals\" + -0.145*\"geven\" + 0.144*\"gemengd\" + -0.143*\"vraag\"\n",
      "Topic #8: -0.281*\"vraag\" + 0.200*\"wijken\" + -0.192*\"30\" + -0.186*\"gaat\" + 0.169*\"mening\" + 0.158*\"eerder\" + 0.152*\"voldoende\" + 0.144*\"woningcorporaties\" + -0.141*\"kunt\" + -0.139*\"pensioenwet\"\n",
      "Topic #9: 0.286*\"leefbaarheid\" + -0.279*\"welke\" + -0.229*\"vraag\" + -0.149*\"acht\" + -0.143*\"geven\" + -0.142*\"waarom\" + -0.141*\"singh\" + 0.141*\"gebeurd\" + -0.125*\"heer\" + -0.124*\"beantwoordt\"\n",
      "====================\n"
     ]
    }
   ],
   "source": [
    "print(\"LDA Model:\")\n",
    " \n",
    "for idx in range(10):\n",
    "    # Print the first 10 most representative topics\n",
    "    print(\"Topic #%s:\" % idx, lda_model.print_topic(idx, 10))\n",
    " \n",
    "print(\"=\" * 20)\n",
    " \n",
    "print(\"LSI Model:\")\n",
    " \n",
    "for idx in range(10):\n",
    "    # Print the first 10 most representative topics\n",
    "    print(\"Topic #%s:\" % idx, lsi_model.print_topic(idx, 10))\n",
    " \n",
    "print(\"=\" * 20)\n"
   ]
  },
  {
   "cell_type": "code",
   "execution_count": 70,
   "metadata": {},
   "outputs": [
    {
     "name": "stdout",
     "output_type": "stream",
     "text": [
      "[(0, 0.3206549979209987), (1, -0.2142180438773666), (2, -0.04275736033646617), (3, -0.177318395433087), (4, 0.2593368115205715), (5, 0.02203424522400972), (6, 0.17702817749716546), (7, -0.10571910206444612), (8, -0.3083858532789294), (9, 0.012834734387054389)]\n",
      "[(0, 0.016673947), (1, 0.31460294), (2, 0.016666668), (3, 0.016670099), (4, 0.1960531), (5, 0.016669383), (6, 0.01666851), (7, 0.016666668), (8, 0.3726591), (9, 0.016669622)]\n"
     ]
    }
   ],
   "source": [
    "text = \"Kunt u de achtergrond schetsen op basis waarvan de Nederlandse Vereniging voor Medische Oncologie (NVMO) een negatief heeft uitgebracht over het middel nivolumab?\"\n",
    "bow = dictionary.doc2bow(clean(text).split())\n",
    " \n",
    "print(lsi_model[bow])\n",
    "\n",
    "print(lda_model[bow])"
   ]
  },
  {
   "cell_type": "code",
   "execution_count": 86,
   "metadata": {},
   "outputs": [
    {
     "name": "stdout",
     "output_type": "stream",
     "text": [
      "\n",
      "Perplexity:  -6.806349164106715\n",
      "\n",
      "Coherence Score:  0.4522677814905346\n"
     ]
    }
   ],
   "source": [
    "# Compute Perplexity\n",
    "print('\\nPerplexity: ', lda_model.log_perplexity(corpus))  # a measure of how good the model is. lower the better.\n",
    "\n",
    "# Compute Coherence Score\n",
    "coherence_model_lda = CoherenceModel(model=lda_model, texts=questions_clean, dictionary=dictionary, coherence='c_v')\n",
    "coherence_lda = coherence_model_lda.get_coherence()\n",
    "print('\\nCoherence Score: ', coherence_lda)"
   ]
  },
  {
   "cell_type": "markdown",
   "metadata": {},
   "source": [
    "## Mallet LDA"
   ]
  },
  {
   "cell_type": "code",
   "execution_count": 106,
   "metadata": {},
   "outputs": [],
   "source": [
    "NUM_TOPICS = 12"
   ]
  },
  {
   "cell_type": "code",
   "execution_count": 109,
   "metadata": {},
   "outputs": [],
   "source": [
    "mallet_path = '../../src/backend/libs/mallet-2.0.8/bin/mallet' # update this path\n",
    "ldamallet = gensim.models.wrappers.LdaMallet(mallet_path, corpus=corpus, num_topics=NUM_TOPICS, id2word=dictionary)"
   ]
  },
  {
   "cell_type": "code",
   "execution_count": 110,
   "metadata": {},
   "outputs": [
    {
     "name": "stdout",
     "output_type": "stream",
     "text": [
      "\n",
      "Coherence Score:  0.7229258855548935\n"
     ]
    }
   ],
   "source": [
    "coherence_model_ldamallet = CoherenceModel(model=ldamallet, texts=questions_clean, dictionary=dictionary, coherence='c_v')\n",
    "coherence_ldamallet = coherence_model_ldamallet.get_coherence()\n",
    "print('\\nCoherence Score: ', coherence_ldamallet)"
   ]
  },
  {
   "cell_type": "code",
   "execution_count": 111,
   "metadata": {},
   "outputs": [
    {
     "name": "stdout",
     "output_type": "stream",
     "text": [
      "Mallet LDA Model:\n",
      "Topic #0: 0.074*\"toepassing\" + 0.056*\"zoals\" + 0.037*\"nominale\" + 0.037*\"rts\" + 0.037*\"vanwege\" + 0.019*\"unhcr\" + 0.019*\"alleen\" + 0.019*\"plaatsen\" + 0.019*\"1\" + 0.019*\"manieren\" + 0.019*\"juist\" + 0.019*\"voorzien\"\n",
      "Topic #1: 0.120*\"toelichten\" + 0.080*\"welke\" + 0.040*\"tekorten\" + 0.040*\"pensioengerechtigden\" + 0.020*\"economische\" + 0.020*\"minstens\" + 0.020*\"uitleggen\" + 0.020*\"onafhankelijkheid\" + 0.020*\"pensioenstelsel\" + 0.020*\"“het\" + 0.020*\"maken\" + 0.020*\"zogenoemde\"\n",
      "Topic #2: 0.136*\"prisonlaw\" + 0.091*\"leiden\" + 0.068*\"heer\" + 0.068*\"rekenrente\" + 0.045*\"5\" + 0.045*\"vertrouwensbreuk\" + 0.045*\"grens\" + 0.045*\"praktijk\" + 0.023*\"pensioengerechtigden\" + 0.023*\"eu\" + 0.023*\"volgende\" + 0.023*\"indexeren\"\n",
      "Topic #3: 0.111*\"buitenlandse\" + 0.074*\"kunt\" + 0.074*\"30\" + 0.056*\"inkomensgrens\" + 0.037*\"huurders\" + 0.037*\"unhcr\" + 0.037*\"medische\" + 0.019*\"2018\" + 0.019*\"beter\" + 0.019*\"maximaal\" + 0.019*\"wenselijk\" + 0.019*\"chantage\"\n",
      "Topic #4: 0.074*\"rendement\" + 0.056*\"welke\" + 0.056*\"sociale\" + 0.056*\"waar\" + 0.056*\"klopt\" + 0.056*\"verwachte\" + 0.037*\"beide\" + 0.037*\"verhogen\" + 0.037*\"dezelfde\" + 0.037*\"groot\" + 0.037*\"subsidie\" + 0.019*\"volkskrant\"\n",
      "Topic #5: 0.135*\"bent\" + 0.058*\"vanuit\" + 0.038*\"woningcorporaties\" + 0.038*\"corporatieprofessionals\" + 0.038*\"huurwoningen\" + 0.038*\"acht\" + 0.038*\"slechts\" + 0.019*\"2012\" + 0.019*\"financiering\" + 0.019*\"nee\" + 0.019*\"sprake\" + 0.019*\"hervestigingsprogramma\"\n",
      "Topic #6: 0.107*\"wijken\" + 0.054*\"antwoord\" + 0.054*\"reactie\" + 0.054*\"deelnemers\" + 0.036*\"betreft\" + 0.036*\"voldoende\" + 0.036*\"alsnog\" + 0.036*\"beantwoordt\" + 0.018*\"kennisgenomen\" + 0.018*\"niet\" + 0.018*\"gemengd\" + 0.018*\"‘aandachtswijk’\"\n",
      "Topic #7: 0.140*\"ministerie\" + 0.140*\"waarom\" + 0.105*\"zaken\" + 0.035*\"worden\" + 0.035*\"pensioenuitkering\" + 0.035*\"verwacht\" + 0.018*\"teller\" + 0.018*\"advocaat\" + 0.018*\"gewenst\" + 0.018*\"heer\" + 0.018*\"honderd\" + 0.018*\"onderbouwen\"\n",
      "Topic #8: 0.182*\"kunt\" + 0.068*\"mogelijk\" + 0.045*\"genoemde\" + 0.045*\"waarde\" + 0.023*\"hoog\" + 0.023*\"verbinden\" + 0.023*\"ingeruimd\" + 0.023*\"mening\" + 0.023*\"nederlander\" + 0.023*\"geval\" + 0.023*\"onrechtvaardig\" + 0.023*\"nieuwe\"\n",
      "Topic #9: 0.104*\"leefbaarheid\" + 0.062*\"terwijl\" + 0.062*\"huidige\" + 0.042*\"buitenland\" + 0.042*\"gedetineerden\" + 0.042*\"deelt\" + 0.042*\"pogingen\" + 0.042*\"singh\" + 0.042*\"onderzoek\" + 0.021*\"partner\" + 0.021*\"continuering\" + 0.021*\"uitkeringsregeling\"\n",
      "Topic #10: 0.118*\"mening\" + 0.098*\"bereid\" + 0.078*\"pensioenwet\" + 0.059*\"nederland\" + 0.059*\"knot\" + 0.059*\"bent\" + 0.039*\"wel\" + 0.020*\"president\" + 0.020*\"welkom\" + 0.020*\"inspanningsverplichting\" + 0.020*\"geregeld\" + 0.020*\"regelgeving\"\n",
      "Topic #11: 0.063*\"vraag\" + 0.063*\"geven\" + 0.048*\"zowel\" + 0.048*\"gaat\" + 0.048*\"indien\" + 0.032*\"subquotum\" + 0.032*\"garantie\" + 0.032*\"eerder\" + 0.032*\"vluchtelingen\" + 0.032*\"medisch\" + 0.016*\"rechten\" + 0.016*\"hervestigingsplekken\"\n"
     ]
    }
   ],
   "source": [
    "print(\"Mallet LDA Model:\")\n",
    " \n",
    "for idx in range(NUM_TOPICS):\n",
    "    # Print the first 10 most representative topics\n",
    "    print(\"Topic #%s:\" % idx, ldamallet.print_topic(idx, NUM_TOPICS))"
   ]
  },
  {
   "cell_type": "code",
   "execution_count": 112,
   "metadata": {},
   "outputs": [
    {
     "name": "stdout",
     "output_type": "stream",
     "text": [
      "5:['bent', 'vanuit', 'slechts', 'woningcorporaties', 'corporatieprofessionals', 'huurwoningen', 'acht', 'sprake', 'financiering', '2012']\n",
      "8:['kunt', 'mogelijk', 'genoemde', 'waarde', 'geval', 'mening', 'onrechtvaardig', 'hoog', 'nederlander', 'ingeruimd']\n",
      "4:['rendement', 'welke', 'sociale', 'waar', 'klopt', 'verwachte', 'beide', 'verhogen', 'dezelfde', 'groot']\n",
      "9:['leefbaarheid', 'terwijl', 'huidige', 'buitenland', 'gedetineerden', 'deelt', 'pogingen', 'singh', 'onderzoek', 'partner']\n",
      "1:['toelichten', 'welke', 'tekorten', 'pensioengerechtigden', 'economische', 'minstens', 'uitleggen', 'onafhankelijkheid', 'pensioenstelsel', '“het']\n",
      "7:['ministerie', 'waarom', 'zaken', 'worden', 'pensioenuitkering', 'verwacht', 'teller', 'advocaat', 'gewenst', 'heer']\n",
      "2:['prisonlaw', 'leiden', 'rekenrente', 'heer', 'praktijk', 'grens', 'vertrouwensbreuk', '5', 'eu', 'volgende']\n",
      "10:['mening', 'bereid', 'pensioenwet', 'nederland', 'knot', 'bent', 'wel', 'president', 'welkom', 'inspanningsverplichting']\n",
      "0:['toepassing', 'zoals', 'nominale', 'rts', 'vanwege', 'unhcr', 'alleen', 'plaatsen', '1', 'manieren']\n",
      "6:['wijken', 'antwoord', 'deelnemers', 'reactie', 'beantwoordt', 'alsnog', 'betreft', 'voldoende', 'gemengd', 'niet']\n",
      "\n",
      "bent vanuit slechts woningcorporaties corporatieprofessionals huurwoningen acht sprake financiering 2012\n",
      "kunt mogelijk genoemde waarde geval mening onrechtvaardig hoog nederlander ingeruimd\n",
      "rendement welke sociale waar klopt verwachte beide verhogen dezelfde groot\n",
      "leefbaarheid terwijl huidige buitenland gedetineerden deelt pogingen singh onderzoek partner\n",
      "toelichten welke tekorten pensioengerechtigden economische minstens uitleggen onafhankelijkheid pensioenstelsel “het\n",
      "ministerie waarom zaken worden pensioenuitkering verwacht teller advocaat gewenst heer\n",
      "prisonlaw leiden rekenrente heer praktijk grens vertrouwensbreuk 5 eu volgende\n",
      "mening bereid pensioenwet nederland knot bent wel president welkom inspanningsverplichting\n",
      "toepassing zoals nominale rts vanwege unhcr alleen plaatsen 1 manieren\n",
      "wijken antwoord deelnemers reactie beantwoordt alsnog betreft voldoende gemengd niet\n"
     ]
    }
   ],
   "source": [
    "x = ldamallet.show_topics(num_topics=10, num_words=10,formatted=False)\n",
    "topics_words = [(tp[0], [wd[0] for wd in tp[1]]) for tp in x]\n",
    "\n",
    "#Below Code Prints Topics and Words\n",
    "for topic,words in topics_words:\n",
    "    print(str(topic)+ \":\"+ str(words))\n",
    "print()\n",
    "\n",
    "#Below Code Prints Only Words \n",
    "for topic,words in topics_words:\n",
    "    print(\" \".join(words))"
   ]
  },
  {
   "cell_type": "markdown",
   "metadata": {},
   "source": [
    "### Topic of sentence"
   ]
  },
  {
   "cell_type": "code",
   "execution_count": 117,
   "metadata": {},
   "outputs": [
    {
     "data": {
      "text/html": [
       "<div>\n",
       "<style scoped>\n",
       "    .dataframe tbody tr th:only-of-type {\n",
       "        vertical-align: middle;\n",
       "    }\n",
       "\n",
       "    .dataframe tbody tr th {\n",
       "        vertical-align: top;\n",
       "    }\n",
       "\n",
       "    .dataframe thead th {\n",
       "        text-align: right;\n",
       "    }\n",
       "</style>\n",
       "<table border=\"1\" class=\"dataframe\">\n",
       "  <thead>\n",
       "    <tr style=\"text-align: right;\">\n",
       "      <th></th>\n",
       "      <th>Document_No</th>\n",
       "      <th>Dominant_Topic</th>\n",
       "      <th>Topic_Perc_Contrib</th>\n",
       "      <th>Keywords</th>\n",
       "      <th>Text</th>\n",
       "    </tr>\n",
       "  </thead>\n",
       "  <tbody>\n",
       "    <tr>\n",
       "      <th>0</th>\n",
       "      <td>0</td>\n",
       "      <td>8.0</td>\n",
       "      <td>0.1085</td>\n",
       "      <td>kunt, mogelijk, genoemde, waarde, geval, menin...</td>\n",
       "      <td>[kent, onderzoek, corporatienl, usp, marketing...</td>\n",
       "    </tr>\n",
       "    <tr>\n",
       "      <th>1</th>\n",
       "      <td>1</td>\n",
       "      <td>6.0</td>\n",
       "      <td>0.1633</td>\n",
       "      <td>wijken, antwoord, deelnemers, reactie, beantwo...</td>\n",
       "      <td>[volgens, oorzaken, liefst, 50, corporatieprof...</td>\n",
       "    </tr>\n",
       "    <tr>\n",
       "      <th>2</th>\n",
       "      <td>2</td>\n",
       "      <td>3.0</td>\n",
       "      <td>0.1120</td>\n",
       "      <td>buitenlandse, kunt, 30, inkomensgrens, medisch...</td>\n",
       "      <td>[verklaart, slechts, 9, huurders, vooruitgang,...</td>\n",
       "    </tr>\n",
       "    <tr>\n",
       "      <th>3</th>\n",
       "      <td>3</td>\n",
       "      <td>11.0</td>\n",
       "      <td>0.1205</td>\n",
       "      <td>vraag, geven, zowel, gaat, indien, subquotum, ...</td>\n",
       "      <td>[bent, mening, gemeenten, woningcorporaties, v...</td>\n",
       "    </tr>\n",
       "    <tr>\n",
       "      <th>4</th>\n",
       "      <td>4</td>\n",
       "      <td>11.0</td>\n",
       "      <td>0.1563</td>\n",
       "      <td>vraag, geven, zowel, gaat, indien, subquotum, ...</td>\n",
       "      <td>[kunt, alsnog, antwoord, geven, vraag, gaat, r...</td>\n",
       "    </tr>\n",
       "    <tr>\n",
       "      <th>5</th>\n",
       "      <td>5</td>\n",
       "      <td>9.0</td>\n",
       "      <td>0.1071</td>\n",
       "      <td>leefbaarheid, terwijl, huidige, buitenland, ge...</td>\n",
       "      <td>[kunt, uitleggen, sind, 2012, gebeurd, leefbaa...</td>\n",
       "    </tr>\n",
       "    <tr>\n",
       "      <th>6</th>\n",
       "      <td>6</td>\n",
       "      <td>1.0</td>\n",
       "      <td>0.1274</td>\n",
       "      <td>toelichten, welke, tekorten, pensioengerechtig...</td>\n",
       "      <td>[welke, aanpassingen, passend, toewijzen, acht...</td>\n",
       "    </tr>\n",
       "    <tr>\n",
       "      <th>7</th>\n",
       "      <td>7</td>\n",
       "      <td>3.0</td>\n",
       "      <td>0.1215</td>\n",
       "      <td>buitenlandse, kunt, 30, inkomensgrens, medisch...</td>\n",
       "      <td>[waarom, stelt, mogelijk, inkomensgrens, socia...</td>\n",
       "    </tr>\n",
       "    <tr>\n",
       "      <th>8</th>\n",
       "      <td>8</td>\n",
       "      <td>1.0</td>\n",
       "      <td>0.1204</td>\n",
       "      <td>toelichten, welke, tekorten, pensioengerechtig...</td>\n",
       "      <td>[welke, manieren, gaat, ervoor, zorgen, wijken...</td>\n",
       "    </tr>\n",
       "    <tr>\n",
       "      <th>9</th>\n",
       "      <td>9</td>\n",
       "      <td>6.0</td>\n",
       "      <td>0.1062</td>\n",
       "      <td>wijken, antwoord, deelnemers, reactie, beantwo...</td>\n",
       "      <td>[kunt, vragen, beantwoorden, wetgevingsoverleg...</td>\n",
       "    </tr>\n",
       "  </tbody>\n",
       "</table>\n",
       "</div>"
      ],
      "text/plain": [
       "   Document_No  Dominant_Topic  Topic_Perc_Contrib  \\\n",
       "0            0             8.0              0.1085   \n",
       "1            1             6.0              0.1633   \n",
       "2            2             3.0              0.1120   \n",
       "3            3            11.0              0.1205   \n",
       "4            4            11.0              0.1563   \n",
       "5            5             9.0              0.1071   \n",
       "6            6             1.0              0.1274   \n",
       "7            7             3.0              0.1215   \n",
       "8            8             1.0              0.1204   \n",
       "9            9             6.0              0.1062   \n",
       "\n",
       "                                            Keywords  \\\n",
       "0  kunt, mogelijk, genoemde, waarde, geval, menin...   \n",
       "1  wijken, antwoord, deelnemers, reactie, beantwo...   \n",
       "2  buitenlandse, kunt, 30, inkomensgrens, medisch...   \n",
       "3  vraag, geven, zowel, gaat, indien, subquotum, ...   \n",
       "4  vraag, geven, zowel, gaat, indien, subquotum, ...   \n",
       "5  leefbaarheid, terwijl, huidige, buitenland, ge...   \n",
       "6  toelichten, welke, tekorten, pensioengerechtig...   \n",
       "7  buitenlandse, kunt, 30, inkomensgrens, medisch...   \n",
       "8  toelichten, welke, tekorten, pensioengerechtig...   \n",
       "9  wijken, antwoord, deelnemers, reactie, beantwo...   \n",
       "\n",
       "                                                Text  \n",
       "0  [kent, onderzoek, corporatienl, usp, marketing...  \n",
       "1  [volgens, oorzaken, liefst, 50, corporatieprof...  \n",
       "2  [verklaart, slechts, 9, huurders, vooruitgang,...  \n",
       "3  [bent, mening, gemeenten, woningcorporaties, v...  \n",
       "4  [kunt, alsnog, antwoord, geven, vraag, gaat, r...  \n",
       "5  [kunt, uitleggen, sind, 2012, gebeurd, leefbaa...  \n",
       "6  [welke, aanpassingen, passend, toewijzen, acht...  \n",
       "7  [waarom, stelt, mogelijk, inkomensgrens, socia...  \n",
       "8  [welke, manieren, gaat, ervoor, zorgen, wijken...  \n",
       "9  [kunt, vragen, beantwoorden, wetgevingsoverleg...  "
      ]
     },
     "execution_count": 117,
     "metadata": {},
     "output_type": "execute_result"
    }
   ],
   "source": [
    "def format_topics_sentences(texts, ldamodel=lda_model, corpus=corpus):\n",
    "    # Init output\n",
    "    sent_topics_df = pd.DataFrame()\n",
    "\n",
    "    # Get main topic in each document\n",
    "    for i, row in enumerate(ldamodel[corpus]):\n",
    "        row = sorted(row, key=lambda x: (x[1]), reverse=True)\n",
    "        # Get the Dominant topic, Perc Contribution and Keywords for each document\n",
    "        for j, (topic_num, prop_topic) in enumerate(row):\n",
    "            if j == 0:  # => dominant topic\n",
    "                wp = ldamodel.show_topic(topic_num)\n",
    "                topic_keywords = \", \".join([word for word, prop in wp])\n",
    "                sent_topics_df = sent_topics_df.append(pd.Series([int(topic_num), round(prop_topic,4), topic_keywords]), ignore_index=True)\n",
    "            else:\n",
    "                break\n",
    "    sent_topics_df.columns = ['Dominant_Topic', 'Perc_Contribution', 'Topic_Keywords']\n",
    "\n",
    "    # Add original text to the end of the output\n",
    "    contents = pd.Series(texts)\n",
    "    sent_topics_df = pd.concat([sent_topics_df, contents], axis=1)\n",
    "    return(sent_topics_df)\n",
    "\n",
    "\n",
    "df_topic_sents_keywords = format_topics_sentences(ldamodel=ldamallet, corpus=corpus, texts=questions_clean)\n",
    "\n",
    "# Format\n",
    "df_dominant_topic = df_topic_sents_keywords.reset_index()\n",
    "df_dominant_topic.columns = ['Document_No', 'Dominant_Topic', 'Topic_Perc_Contrib', 'Keywords', 'Text']\n",
    "\n",
    "# Show\n",
    "df_dominant_topic.head(10)\n"
   ]
  },
  {
   "cell_type": "code",
   "execution_count": 119,
   "metadata": {},
   "outputs": [
    {
     "data": {
      "text/plain": [
       "['kent', 'onderzoek', 'corporatienl', 'usp', 'marketing', 'consultancy', 'medewerkers', 'woningcorporaties', 'wijkbewoners', 'waaruit', 'somber', 'beeld', 'opdoemt', 'reactie', 'daarop']"
      ]
     },
     "execution_count": 119,
     "metadata": {},
     "output_type": "execute_result"
    }
   ],
   "source": [
    "df_dominant_topic.iloc[0]['Text']"
   ]
  },
  {
   "cell_type": "code",
   "execution_count": 120,
   "metadata": {},
   "outputs": [
    {
     "data": {
      "text/plain": [
       "'kunt, mogelijk, genoemde, waarde, geval, mening, onrechtvaardig, hoog, nederlander, ingeruimd'"
      ]
     },
     "execution_count": 120,
     "metadata": {},
     "output_type": "execute_result"
    }
   ],
   "source": [
    "df_dominant_topic.iloc[0]['Keywords']"
   ]
  },
  {
   "cell_type": "markdown",
   "metadata": {},
   "source": [
    "## Hyperparameter Tuning"
   ]
  },
  {
   "cell_type": "code",
   "execution_count": 102,
   "metadata": {},
   "outputs": [],
   "source": [
    "# Number of topics\n",
    "def compute_coherence_values(dictionary, corpus, texts, limit, start=2, step=3):\n",
    "    coherence_values = []\n",
    "    model_list = []\n",
    "    for num_topics in range(start, limit, step):\n",
    "        model = gensim.models.wrappers.LdaMallet(mallet_path, corpus=corpus, num_topics=num_topics, id2word=dictionary)\n",
    "        model_list.append(model)\n",
    "        coherencemodel = CoherenceModel(model=model, texts=texts, dictionary=dictionary, coherence='c_v')\n",
    "        coherence_values.append(coherencemodel.get_coherence())\n",
    "\n",
    "    return model_list, coherence_values\n",
    "\n",
    "model_list, coherence_values = compute_coherence_values(dictionary=dictionary, corpus=corpus, texts=questions_clean, start=2, limit=15, step=2)"
   ]
  },
  {
   "cell_type": "code",
   "execution_count": 105,
   "metadata": {},
   "outputs": [
    {
     "data": {
      "image/png": "[encoded data removed]",
      "text/plain": [
       "<Figure size 432x288 with 1 Axes>"
      ]
     },
     "metadata": {
      "needs_background": "light"
     },
     "output_type": "display_data"
    }
   ],
   "source": [
    "# Show graph\n",
    "limit=15; start=2; step=2;\n",
    "x = range(start, limit, step)\n",
    "plt.plot(x, coherence_values)\n",
    "plt.xlabel(\"Num Topics\")\n",
    "plt.ylabel(\"Coherence score\")\n",
    "plt.legend((\"coherence_values\"), loc='best')\n",
    "plt.show()"
   ]
  }
 ],
 "metadata": {
  "kernelspec": {
   "display_name": "Python 3",
   "language": "python",
   "name": "python3"
  },
  "language_info": {
   "codemirror_mode": {
    "name": "ipython",
    "version": 3
   },
   "file_extension": ".py",
   "mimetype": "text/x-python",
   "name": "python",
   "nbconvert_exporter": "python",
   "pygments_lexer": "ipython3",
   "version": "3.6.6"
  }
 },
 "nbformat": 4,
 "nbformat_minor": 2
}
