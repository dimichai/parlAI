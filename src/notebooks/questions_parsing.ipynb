{
 "cells": [
  {
   "cell_type": "code",
   "execution_count": 1,
   "metadata": {},
   "outputs": [],
   "source": [
    "import pandas as pd"
   ]
  },
  {
   "cell_type": "code",
   "execution_count": 5,
   "metadata": {},
   "outputs": [],
   "source": [
    "questions = pd.read_csv('../../data/question_data.csv', delimiter=';')"
   ]
  },
  {
   "cell_type": "code",
   "execution_count": 6,
   "metadata": {},
   "outputs": [
    {
     "data": {
      "text/html": [
       "<div>\n",
       "<style scoped>\n",
       "    .dataframe tbody tr th:only-of-type {\n",
       "        vertical-align: middle;\n",
       "    }\n",
       "\n",
       "    .dataframe tbody tr th {\n",
       "        vertical-align: top;\n",
       "    }\n",
       "\n",
       "    .dataframe thead th {\n",
       "        text-align: right;\n",
       "    }\n",
       "</style>\n",
       "<table border=\"1\" class=\"dataframe\">\n",
       "  <thead>\n",
       "    <tr style=\"text-align: right;\">\n",
       "      <th></th>\n",
       "      <th>title</th>\n",
       "      <th>function</th>\n",
       "      <th>keywords</th>\n",
       "      <th>questions</th>\n",
       "    </tr>\n",
       "  </thead>\n",
       "  <tbody>\n",
       "    <tr>\n",
       "      <th>0</th>\n",
       "      <td>De achteruitgang van leefbaarheid in wijken</td>\n",
       "      <td>K.H. OllongrenD66Minister van Binnenlandse Zak...</td>\n",
       "      <td>WONINGCORPORATIES#STADSWIJKEN#WOONOMSTANDIGHED...</td>\n",
       "      <td>&lt;question&gt;1 Kent u het onderzoek van Corporati...</td>\n",
       "    </tr>\n",
       "    <tr>\n",
       "      <th>1</th>\n",
       "      <td>De brief van de president van De Nederlandsche...</td>\n",
       "      <td>W. KoolmeesD66Minister van Sociale Zaken en We...</td>\n",
       "      <td>DNB#PENSIOENEN#INDEXATIE# # #</td>\n",
       "      <td>&lt;question&gt;1 Acht u het gewenst dat een nieuw p...</td>\n",
       "    </tr>\n",
       "    <tr>\n",
       "      <th>2</th>\n",
       "      <td>De hervestiging van zieke vluchtelingen</td>\n",
       "      <td>M.G.J. HarbersVVDStaatssecretaris van Justitie...</td>\n",
       "      <td>VLUCHTELINGEN#ZIEKTEN#JEUGDIGEN#ALLOCHTONE KIN...</td>\n",
       "      <td>&lt;question&gt;1 Wat is uw reactie op de uitzending...</td>\n",
       "    </tr>\n",
       "    <tr>\n",
       "      <th>3</th>\n",
       "      <td>De vertrouwensbreuk van organisatie PrisonLaw ...</td>\n",
       "      <td>S.A. BlokVVDMinister van Buitenlandse Zaken</td>\n",
       "      <td>SUBSIDI#ES#MINISTERIE VAN BUITENLANDSE ZAKEN#B...</td>\n",
       "      <td>&lt;question&gt;1 Heeft u kennisgenomen van het beri...</td>\n",
       "    </tr>\n",
       "    <tr>\n",
       "      <th>4</th>\n",
       "      <td>De vrijwilligers- en bestuurdersproblematiek b...</td>\n",
       "      <td>B.J. BruinsVVDMinister voor Medische Zorg</td>\n",
       "      <td>SPORTORGANISATIES#LEDENTAL#VRIJWILLIGERSWERK#C...</td>\n",
       "      <td>&lt;question&gt;1 Heeft u kennisgenomen van het arti...</td>\n",
       "    </tr>\n",
       "  </tbody>\n",
       "</table>\n",
       "</div>"
      ],
      "text/plain": [
       "                                               title  \\\n",
       "0      De achteruitgang van leefbaarheid in wijken     \n",
       "1  De brief van de president van De Nederlandsche...   \n",
       "2          De hervestiging van zieke vluchtelingen     \n",
       "3  De vertrouwensbreuk van organisatie PrisonLaw ...   \n",
       "4  De vrijwilligers- en bestuurdersproblematiek b...   \n",
       "\n",
       "                                            function  \\\n",
       "0  K.H. OllongrenD66Minister van Binnenlandse Zak...   \n",
       "1  W. KoolmeesD66Minister van Sociale Zaken en We...   \n",
       "2  M.G.J. HarbersVVDStaatssecretaris van Justitie...   \n",
       "3      S.A. BlokVVDMinister van Buitenlandse Zaken     \n",
       "4        B.J. BruinsVVDMinister voor Medische Zorg     \n",
       "\n",
       "                                            keywords  \\\n",
       "0  WONINGCORPORATIES#STADSWIJKEN#WOONOMSTANDIGHED...   \n",
       "1                      DNB#PENSIOENEN#INDEXATIE# # #   \n",
       "2  VLUCHTELINGEN#ZIEKTEN#JEUGDIGEN#ALLOCHTONE KIN...   \n",
       "3  SUBSIDI#ES#MINISTERIE VAN BUITENLANDSE ZAKEN#B...   \n",
       "4  SPORTORGANISATIES#LEDENTAL#VRIJWILLIGERSWERK#C...   \n",
       "\n",
       "                                           questions  \n",
       "0  <question>1 Kent u het onderzoek van Corporati...  \n",
       "1  <question>1 Acht u het gewenst dat een nieuw p...  \n",
       "2  <question>1 Wat is uw reactie op de uitzending...  \n",
       "3  <question>1 Heeft u kennisgenomen van het beri...  \n",
       "4  <question>1 Heeft u kennisgenomen van het arti...  "
      ]
     },
     "execution_count": 6,
     "metadata": {},
     "output_type": "execute_result"
    }
   ],
   "source": [
    "questions.head(5)"
   ]
  },
  {
   "cell_type": "code",
   "execution_count": 17,
   "metadata": {},
   "outputs": [],
   "source": [
    "# Keep only the questions that reference the ministry of infrastructure\n",
    "ministry_questions = questions[questions['function'].str.lower().str.contains(\"infrastructuur en waterstaat\")]"
   ]
  },
  {
   "cell_type": "code",
   "execution_count": 28,
   "metadata": {},
   "outputs": [
    {
     "data": {
      "text/html": [
       "<div>\n",
       "<style scoped>\n",
       "    .dataframe tbody tr th:only-of-type {\n",
       "        vertical-align: middle;\n",
       "    }\n",
       "\n",
       "    .dataframe tbody tr th {\n",
       "        vertical-align: top;\n",
       "    }\n",
       "\n",
       "    .dataframe thead th {\n",
       "        text-align: right;\n",
       "    }\n",
       "</style>\n",
       "<table border=\"1\" class=\"dataframe\">\n",
       "  <thead>\n",
       "    <tr style=\"text-align: right;\">\n",
       "      <th></th>\n",
       "      <th>title</th>\n",
       "      <th>function</th>\n",
       "      <th>keywords</th>\n",
       "      <th>questions</th>\n",
       "    </tr>\n",
       "  </thead>\n",
       "  <tbody>\n",
       "    <tr>\n",
       "      <th>12</th>\n",
       "      <td>Het bericht ‘Trekker rijbewijs zorgt voor uitsluiten buitenlandse stagiaires’</td>\n",
       "      <td>C. van Nieuwenhuizen WijbengaVVDMinister van Infrastructuur en Waterstaat</td>\n",
       "      <td>RIJBEWIJZEN#LANDBOUW#STAGES#INTERNATIONALISERING IN HET ONDERWIJS# # #</td>\n",
       "      <td>&lt;question&gt;1 Kent u het bericht ‘Trekkerrijbewijs zorgt voor uitsluiten buitenlandse stagiaires’?...</td>\n",
       "    </tr>\n",
       "    <tr>\n",
       "      <th>16</th>\n",
       "      <td>Het dreigende tekort aan stroom in België vanwege uitgeschakelde kernreactoren</td>\n",
       "      <td>E.D. WiebesVVDMinister van Economische Zaken en KlimaatS. van Veldhoven-van der MeerD66Staatssec...</td>\n",
       "      <td>KERNENERGIE#ENERGIEVOORZIENING#BELGIË#NEDERLAND#ELEKTRICITEIT#KOOLDIOXIDE#AARDG#ASWINNING#GRONIN...</td>\n",
       "      <td>&lt;question&gt;1 Bent u bekend met het voornemen van België om zijn buurlanden, waaronder Nederland, ...</td>\n",
       "    </tr>\n",
       "    <tr>\n",
       "      <th>27</th>\n",
       "      <td>Het gebrek aan toezicht op legionella afkomstig van afvalwaterzuiveringsinstallaties</td>\n",
       "      <td>C. van Nieuwenhuizen WijbengaVVDMinister van Infrastructuur en WaterstaatB.J. BruinsVVDMinister ...</td>\n",
       "      <td>AFVAL#WATERZUIVERING#LEGIONELLA#NOORD-BRABANT#GEZONDHEIDSEFFECTEN#VLEESWARENINDUSTRIE# # #</td>\n",
       "      <td>&lt;question&gt;1 Bent u bekend met de nieuwsberichten ‘Gerard Smits (77) lag kantje boord door legion...</td>\n",
       "    </tr>\n",
       "  </tbody>\n",
       "</table>\n",
       "</div>"
      ],
      "text/plain": [
       "                                                                                     title  \\\n",
       "12         Het bericht ‘Trekker rijbewijs zorgt voor uitsluiten buitenlandse stagiaires’     \n",
       "16        Het dreigende tekort aan stroom in België vanwege uitgeschakelde kernreactoren     \n",
       "27  Het gebrek aan toezicht op legionella afkomstig van afvalwaterzuiveringsinstallaties     \n",
       "\n",
       "                                                                                               function  \\\n",
       "12                          C. van Nieuwenhuizen WijbengaVVDMinister van Infrastructuur en Waterstaat     \n",
       "16  E.D. WiebesVVDMinister van Economische Zaken en KlimaatS. van Veldhoven-van der MeerD66Staatssec...   \n",
       "27  C. van Nieuwenhuizen WijbengaVVDMinister van Infrastructuur en WaterstaatB.J. BruinsVVDMinister ...   \n",
       "\n",
       "                                                                                               keywords  \\\n",
       "12                               RIJBEWIJZEN#LANDBOUW#STAGES#INTERNATIONALISERING IN HET ONDERWIJS# # #   \n",
       "16  KERNENERGIE#ENERGIEVOORZIENING#BELGIË#NEDERLAND#ELEKTRICITEIT#KOOLDIOXIDE#AARDG#ASWINNING#GRONIN...   \n",
       "27           AFVAL#WATERZUIVERING#LEGIONELLA#NOORD-BRABANT#GEZONDHEIDSEFFECTEN#VLEESWARENINDUSTRIE# # #   \n",
       "\n",
       "                                                                                              questions  \n",
       "12  <question>1 Kent u het bericht ‘Trekkerrijbewijs zorgt voor uitsluiten buitenlandse stagiaires’?...  \n",
       "16  <question>1 Bent u bekend met het voornemen van België om zijn buurlanden, waaronder Nederland, ...  \n",
       "27  <question>1 Bent u bekend met de nieuwsberichten ‘Gerard Smits (77) lag kantje boord door legion...  "
      ]
     },
     "execution_count": 28,
     "metadata": {},
     "output_type": "execute_result"
    }
   ],
   "source": [
    "ministry_questions.head(3)"
   ]
  },
  {
   "cell_type": "code",
   "execution_count": 41,
   "metadata": {},
   "outputs": [],
   "source": [
    "questions = ministry_questions['questions']"
   ]
  },
  {
   "cell_type": "code",
   "execution_count": 45,
   "metadata": {},
   "outputs": [
    {
     "data": {
      "text/plain": [
       "\"<question>1 Kent u het bericht ‘Trekkerrijbewijs zorgt voor uitsluiten buitenlandse stagiaires’? (1)\\xa0</question><question>2 Is het waar dat mensen in Nederland alleen een land- en bosbouwtrekker (LBT) en een voertuig met beperkte snelheid (MMBS) mogen besturen als men een Nederlands rijbewijs heeft voor de categorie T of een Nederlands rijbewijs met de categorie B, mits afgegeven voor 1 juli 2015?\\xa0</question><question>3 Kunt u toelichten waarom personen met een rijbewijs categorie B afgegeven voor 1 juli 2015 wel een LBT en of MMBS mogen besturen en personen met een rijbewijs categorie B afgegeven na deze datum niet?\\xa0</question><question>4 Wat vindt u van de situatie dat buitenlandse stagiaires, afkomstig uit een land waar men geen rijbewijs T kent, maar die wel in het bezit zijn van een rijbewijs B geen LBT of MMBS mogen besturen?\\xa0</question><question>5 Kunt u aangeven welke eisen werden gesteld aan het behalen van een rijbewijs B voor 1 juli 2015 en welke na 1 juli 2015?\\xa0</question><question>6 Kunt u aangeven waarom een rijbewijs B in Frankrijk gebruikt mag worden voor het besturen van een personenauto, een LBT en een MMBS en dit in Nederland alleen gebruikt mag worden voor het besturen van een personenauto, tenzij het rijbewijs behaald is voor 1 juli 2015?\\xa0</question><question>7 Kunt u aangeven wat het verschil in vraag 6 is tussen een rijbewijs behaald in Frankrijk voor 1 juli 2015 en na 1 juli 2015?\\xa0</question><question>8 Kunt u aangeven welke landen in Europa een rijbewijs T kennen?\\xa0</question><question>9 Deelt u de mening dat de huidige situatie een blokkade opwerpt voor buitenlandse stagiaires afkomstig uit landen waar men geen rijbewijs T kent? Zo nee, waarom niet?\\xa0<question>1 0Deelt u de mening dat de uitwisseling van buitenlandse studenten van toegevoegde waarde is en deze blokkade opgelost zou moeten worden? Zo nee, waarom niet?(1) Omroepflevoland.nl, 24 september 2018, 'Trekker rijbewijs zorgt voor uitsluiten buitenlandse stagiairs' (https://www.omroepflevoland.nl/nieuws/164032/trekker rijbewijs-zorgt-voor-uitsluiten-buitenlandse-stagiairs)\\xa0\\xa0</question>\""
      ]
     },
     "execution_count": 45,
     "metadata": {},
     "output_type": "execute_result"
    }
   ],
   "source": [
    "questions.iloc[0]"
   ]
  },
  {
   "cell_type": "code",
   "execution_count": 48,
   "metadata": {},
   "outputs": [
    {
     "data": {
      "text/plain": [
       "'<question>1 Bent u bekend met het voornemen van België om zijn buurlanden, waaronder Nederland, hulp te vragen bij dreigende stroomtekorten als gevolg van uitgeschakelde kernreactoren? (1)\\xa0</question><question>2 Heeft uw Belgische collega u hier inmiddels over benaderd of verwacht u binnenkort benaderd te worden?\\xa0</question><question>3 Bent u voornemens om gehoor te geven aan het hulpverzoek door België extra stroom te leveren? Zo ja, kunt u aangeven over hoeveel stroom het gaat, welke bronnen hiervoor benut zullen worden en over welke periode het gaat?\\xa0</question><question>4 Kunt u uitsluiten dat de mogelijke levering van ‘noodstroom’ aan België gepaard zal gaan met extra CO2-uitstoot? Zo nee, op welke wijze gaat de extra CO2-uitstoot gemeten en gecompenseerd worden?\\xa0</question><question>5 Kunt u uitsluiten dat de mogelijke levering van noodstroom aan België vertraging betekent voor de Nederlandse energietransitie en afbouw van de gaswinning uit Groningen? Zo nee, op welke wijze gaat u hier compenserende maatregelen voor treffen?\\xa0</question><question>6 Bent u op de hoogte gebracht over de nieuwe problemen bij kernreactor Tihange-2, waar niet alleen sprake is van betonrot, maar waar tevens de wapening van het beton ontbreekt op de plekken waar dat volgens de plannen wel zou moeten zitten? (2)\\xa0</question><question>7 Vindt u het verontrustend dat deze ontdekking afkomstig is van een klokkenluider en niet van het Federaal Agentschap voor Nucleaire Controle (FANC)? Is het waar dat de kwaliteit van het beton niet op de prioriteitenlijst bij de inspecties van het FANC staat?\\xa0</question><question>8 Deelt u de mening dat, gezien het grote aantal incidenten alleen al de afgelopen maanden en het feit dat inmiddels zes van de zeven kernreactoren zijn uitgeschakeld, niet langer gesproken kan worden over losse incidenten, maar van een structureel probleem? (3) Zo ja, erkent u de noodzaak om België te overtuigen de kerncentrales zo snel mogelijk definitief te sluiten? Zo nee, waarom niet?\\xa0\\xa0</question><question>9 Bent u bereid om de stroomlevering aan België vergezeld te laten gaan van een dringende oproep om de kerncentrales zo snel mogelijk te sluiten en echt werk te maken van een transitie naar duurzame vormen van energie? Zo ja, bent u bereid hierover te rapporteren aan de Kamer? Zo nee, waarom niet?\\xa0<question>1 0Verwacht u een stijging van de stroomprijs voor Nederlandse huishoudens vanwege mogelijke schaarste, mocht Nederland België te hulp schieten met noodstroom?\\xa0<question>1 <question>1 Bent u bereid om geen onomkeerbare stappen te nemen en besluiten over de levering van stroom aan België voor te leggen aan de Kamer?\\xa0(1) https://www.nrc.nl/nieuws/2018/09/25/kerncentrales-belgie-vraagt-hulp-om-stroomtekort-op-te-kunnen-vangen-a175785</question><question>9 (2) https://www.vrt.be/vrtnws/nl/2018/10/02/nieuwe-problemen-bij-tihange-2-vastgesteld-betonijzer-zit-niet/(3)\\xa0 https://www.nrc.nl/nieuws/2018/09/27/de-ene-na-de-andere-kerncentrale-valt-stil-belgie-staat-voor-een-koude-winter-a186570<question>1 \\xa0\\xa0</question>'"
      ]
     },
     "execution_count": 48,
     "metadata": {},
     "output_type": "execute_result"
    }
   ],
   "source": [
    "questions.iloc[1]"
   ]
  },
  {
   "cell_type": "code",
   "execution_count": 44,
   "metadata": {},
   "outputs": [
    {
     "data": {
      "text/plain": [
       "pandas.core.series.Series"
      ]
     },
     "execution_count": 44,
     "metadata": {},
     "output_type": "execute_result"
    }
   ],
   "source": []
  },
  {
   "cell_type": "code",
   "execution_count": 47,
   "metadata": {},
   "outputs": [
    {
     "ename": "ExpatError",
     "evalue": "junk after document element: line 1, column 112",
     "output_type": "error",
     "traceback": [
      "\u001b[0;31m---------------------------------------------------------------------------\u001b[0m",
      "\u001b[0;31mExpatError\u001b[0m                                Traceback (most recent call last)",
      "\u001b[0;32m<ipython-input-47-6c0a6ca8e735>\u001b[0m in \u001b[0;36m<module>\u001b[0;34m\u001b[0m\n\u001b[1;32m      1\u001b[0m \u001b[0;32mfrom\u001b[0m \u001b[0mxml\u001b[0m\u001b[0;34m.\u001b[0m\u001b[0mdom\u001b[0m \u001b[0;32mimport\u001b[0m \u001b[0mminidom\u001b[0m\u001b[0;34m\u001b[0m\u001b[0m\n\u001b[0;32m----> 2\u001b[0;31m \u001b[0mxmldoc\u001b[0m \u001b[0;34m=\u001b[0m \u001b[0mminidom\u001b[0m\u001b[0;34m.\u001b[0m\u001b[0mparseString\u001b[0m\u001b[0;34m(\u001b[0m \u001b[0mquestions\u001b[0m\u001b[0;34m.\u001b[0m\u001b[0miloc\u001b[0m\u001b[0;34m[\u001b[0m\u001b[0;36m0\u001b[0m\u001b[0;34m]\u001b[0m \u001b[0;34m)\u001b[0m\u001b[0;34m\u001b[0m\u001b[0m\n\u001b[0m",
      "\u001b[0;32m~/anaconda3/lib/python3.6/xml/dom/minidom.py\u001b[0m in \u001b[0;36mparseString\u001b[0;34m(string, parser)\u001b[0m\n\u001b[1;32m   1966\u001b[0m     \u001b[0;32mif\u001b[0m \u001b[0mparser\u001b[0m \u001b[0;32mis\u001b[0m \u001b[0;32mNone\u001b[0m\u001b[0;34m:\u001b[0m\u001b[0;34m\u001b[0m\u001b[0m\n\u001b[1;32m   1967\u001b[0m         \u001b[0;32mfrom\u001b[0m \u001b[0mxml\u001b[0m\u001b[0;34m.\u001b[0m\u001b[0mdom\u001b[0m \u001b[0;32mimport\u001b[0m \u001b[0mexpatbuilder\u001b[0m\u001b[0;34m\u001b[0m\u001b[0m\n\u001b[0;32m-> 1968\u001b[0;31m         \u001b[0;32mreturn\u001b[0m \u001b[0mexpatbuilder\u001b[0m\u001b[0;34m.\u001b[0m\u001b[0mparseString\u001b[0m\u001b[0;34m(\u001b[0m\u001b[0mstring\u001b[0m\u001b[0;34m)\u001b[0m\u001b[0;34m\u001b[0m\u001b[0m\n\u001b[0m\u001b[1;32m   1969\u001b[0m     \u001b[0;32melse\u001b[0m\u001b[0;34m:\u001b[0m\u001b[0;34m\u001b[0m\u001b[0m\n\u001b[1;32m   1970\u001b[0m         \u001b[0;32mfrom\u001b[0m \u001b[0mxml\u001b[0m\u001b[0;34m.\u001b[0m\u001b[0mdom\u001b[0m \u001b[0;32mimport\u001b[0m \u001b[0mpulldom\u001b[0m\u001b[0;34m\u001b[0m\u001b[0m\n",
      "\u001b[0;32m~/anaconda3/lib/python3.6/xml/dom/expatbuilder.py\u001b[0m in \u001b[0;36mparseString\u001b[0;34m(string, namespaces)\u001b[0m\n\u001b[1;32m    923\u001b[0m     \u001b[0;32melse\u001b[0m\u001b[0;34m:\u001b[0m\u001b[0;34m\u001b[0m\u001b[0m\n\u001b[1;32m    924\u001b[0m         \u001b[0mbuilder\u001b[0m \u001b[0;34m=\u001b[0m \u001b[0mExpatBuilder\u001b[0m\u001b[0;34m(\u001b[0m\u001b[0;34m)\u001b[0m\u001b[0;34m\u001b[0m\u001b[0m\n\u001b[0;32m--> 925\u001b[0;31m     \u001b[0;32mreturn\u001b[0m \u001b[0mbuilder\u001b[0m\u001b[0;34m.\u001b[0m\u001b[0mparseString\u001b[0m\u001b[0;34m(\u001b[0m\u001b[0mstring\u001b[0m\u001b[0;34m)\u001b[0m\u001b[0;34m\u001b[0m\u001b[0m\n\u001b[0m\u001b[1;32m    926\u001b[0m \u001b[0;34m\u001b[0m\u001b[0m\n\u001b[1;32m    927\u001b[0m \u001b[0;34m\u001b[0m\u001b[0m\n",
      "\u001b[0;32m~/anaconda3/lib/python3.6/xml/dom/expatbuilder.py\u001b[0m in \u001b[0;36mparseString\u001b[0;34m(self, string)\u001b[0m\n\u001b[1;32m    221\u001b[0m         \u001b[0mparser\u001b[0m \u001b[0;34m=\u001b[0m \u001b[0mself\u001b[0m\u001b[0;34m.\u001b[0m\u001b[0mgetParser\u001b[0m\u001b[0;34m(\u001b[0m\u001b[0;34m)\u001b[0m\u001b[0;34m\u001b[0m\u001b[0m\n\u001b[1;32m    222\u001b[0m         \u001b[0;32mtry\u001b[0m\u001b[0;34m:\u001b[0m\u001b[0;34m\u001b[0m\u001b[0m\n\u001b[0;32m--> 223\u001b[0;31m             \u001b[0mparser\u001b[0m\u001b[0;34m.\u001b[0m\u001b[0mParse\u001b[0m\u001b[0;34m(\u001b[0m\u001b[0mstring\u001b[0m\u001b[0;34m,\u001b[0m \u001b[0;32mTrue\u001b[0m\u001b[0;34m)\u001b[0m\u001b[0;34m\u001b[0m\u001b[0m\n\u001b[0m\u001b[1;32m    224\u001b[0m             \u001b[0mself\u001b[0m\u001b[0;34m.\u001b[0m\u001b[0m_setup_subset\u001b[0m\u001b[0;34m(\u001b[0m\u001b[0mstring\u001b[0m\u001b[0;34m)\u001b[0m\u001b[0;34m\u001b[0m\u001b[0m\n\u001b[1;32m    225\u001b[0m         \u001b[0;32mexcept\u001b[0m \u001b[0mParseEscape\u001b[0m\u001b[0;34m:\u001b[0m\u001b[0;34m\u001b[0m\u001b[0m\n",
      "\u001b[0;31mExpatError\u001b[0m: junk after document element: line 1, column 112"
     ]
    }
   ],
   "source": [
    "from xml.dom import minidom                                          \n",
    "xmldoc = minidom.parseString( questions.iloc[0] )  \n"
   ]
  },
  {
   "cell_type": "markdown",
   "metadata": {},
   "source": [
    "## playing with the keywords"
   ]
  },
  {
   "cell_type": "code",
   "execution_count": 55,
   "metadata": {},
   "outputs": [],
   "source": [
    "# string = string.replace(u'\\xa0', u' ')\n",
    "ministry_questions['keywords'] = ministry_questions['keywords'].str.replace(u'\\xa0', u' ')"
   ]
  },
  {
   "cell_type": "code",
   "execution_count": 70,
   "metadata": {},
   "outputs": [],
   "source": [
    "keywords = ministry_questions['keywords']"
   ]
  },
  {
   "cell_type": "code",
   "execution_count": 73,
   "metadata": {},
   "outputs": [
    {
     "data": {
      "text/plain": [
       "['LUCHTVAARTMAATSCHAPPIJEN',\n",
       " 'NEDERLAND',\n",
       " 'FRANKRIJK',\n",
       " 'BEDRIJFSSTEUN',\n",
       " 'SUBSIDIES',\n",
       " 'MANAGEMENT',\n",
       " 'CONCENTRATIES',\n",
       " 'AANDEELHOUDERS',\n",
       " 'MEDEDINGING',\n",
       " '',\n",
       " '',\n",
       " '']"
      ]
     },
     "execution_count": 73,
     "metadata": {},
     "output_type": "execute_result"
    }
   ],
   "source": [
    "[x.strip() for x in keywords.iloc[60].split('#')]"
   ]
  },
  {
   "cell_type": "code",
   "execution_count": 72,
   "metadata": {},
   "outputs": [
    {
     "data": {
      "text/plain": [
       "<filter at 0x10d560780>"
      ]
     },
     "execution_count": 72,
     "metadata": {},
     "output_type": "execute_result"
    }
   ],
   "source": [
    "keywords.iloc[60].split('#')\n",
    "str_list = filter(None, keywords.iloc[60].split('#')) # fastest\n",
    "str_list"
   ]
  },
  {
   "cell_type": "code",
   "execution_count": 40,
   "metadata": {},
   "outputs": [],
   "source": [
    "ministry_questions.to_csv('../../data/ministry_question_data.csv', sep=';', index=False)"
   ]
  }
 ],
 "metadata": {
  "kernelspec": {
   "display_name": "Python 3",
   "language": "python",
   "name": "python3"
  },
  "language_info": {
   "codemirror_mode": {
    "name": "ipython",
    "version": 3
   },
   "file_extension": ".py",
   "mimetype": "text/x-python",
   "name": "python",
   "nbconvert_exporter": "python",
   "pygments_lexer": "ipython3",
   "version": "3.6.6"
  }
 },
 "nbformat": 4,
 "nbformat_minor": 2
}
