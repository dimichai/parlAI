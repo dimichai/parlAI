{
 "cells": [
  {
   "cell_type": "code",
   "execution_count": 1,
   "metadata": {},
   "outputs": [],
   "source": [
    "import pandas as pd"
   ]
  },
  {
   "cell_type": "code",
   "execution_count": 139,
   "metadata": {},
   "outputs": [],
   "source": [
    "# questions = pd.read_csv('../../data/question_data_updated.csv', delimiter=';')\n",
    "questions = pd.read_csv('../../data/question_data.csv', delimiter=';')"
   ]
  },
  {
   "cell_type": "code",
   "execution_count": 142,
   "metadata": {},
   "outputs": [
    {
     "data": {
      "text/html": [
       "<div>\n",
       "<style scoped>\n",
       "    .dataframe tbody tr th:only-of-type {\n",
       "        vertical-align: middle;\n",
       "    }\n",
       "\n",
       "    .dataframe tbody tr th {\n",
       "        vertical-align: top;\n",
       "    }\n",
       "\n",
       "    .dataframe thead th {\n",
       "        text-align: right;\n",
       "    }\n",
       "</style>\n",
       "<table border=\"1\" class=\"dataframe\">\n",
       "  <thead>\n",
       "    <tr style=\"text-align: right;\">\n",
       "      <th></th>\n",
       "      <th>title</th>\n",
       "      <th>function</th>\n",
       "      <th>keywords</th>\n",
       "      <th>questions</th>\n",
       "    </tr>\n",
       "  </thead>\n",
       "  <tbody>\n",
       "    <tr>\n",
       "      <th>0</th>\n",
       "      <td>Het bericht ‘Trekker rijbewijs zorgt voor uits...</td>\n",
       "      <td>C. van Nieuwenhuizen WijbengaVVDMinister van I...</td>\n",
       "      <td>RIJBEWIJZEN#LANDBOUW#STAGES#INTERNATIONALISERI...</td>\n",
       "      <td>&lt;questions&gt;&lt;question&gt;1 Kent u het bericht ‘Tre...</td>\n",
       "    </tr>\n",
       "    <tr>\n",
       "      <th>1</th>\n",
       "      <td>Het dreigende tekort aan stroom in België vanw...</td>\n",
       "      <td>E.D. WiebesVVDMinister van Economische Zaken e...</td>\n",
       "      <td>KERNENERGIE#ENERGIEVOORZIENING#BELGIË#NEDERLAN...</td>\n",
       "      <td>&lt;questions&gt;&lt;question&gt;1 Bent u bekend met het v...</td>\n",
       "    </tr>\n",
       "    <tr>\n",
       "      <th>2</th>\n",
       "      <td>Het gebrek aan toezicht op legionella afkomsti...</td>\n",
       "      <td>C. van Nieuwenhuizen WijbengaVVDMinister van I...</td>\n",
       "      <td>AFVAL#WATERZUIVERING#LEGIONELLA#NOORD-BRABANT#...</td>\n",
       "      <td>&lt;questions&gt;&lt;question&gt;1 Bent u bekend met de ni...</td>\n",
       "    </tr>\n",
       "    <tr>\n",
       "      <th>3</th>\n",
       "      <td>De uitzending van Zembla ‘De Kunstgrasberg’</td>\n",
       "      <td>C. van Nieuwenhuizen WijbengaVVDMinister van I...</td>\n",
       "      <td>KUNSTSTOFFEN#ZWARE METALEN#GEMEENTEN#RECYCLING...</td>\n",
       "      <td>&lt;questions&gt;&lt;question&gt;1 Kent u de uitzending va...</td>\n",
       "    </tr>\n",
       "    <tr>\n",
       "      <th>4</th>\n",
       "      <td>Illegale praktijken rondom recycling van kunst...</td>\n",
       "      <td>C. van Nieuwenhuizen WijbengaVVDMinister van I...</td>\n",
       "      <td>RECYCLING#KUNSTSTOFFEN#GEMEENTEN#MILIEUVERGUNN...</td>\n",
       "      <td>&lt;questions&gt;&lt;question&gt;1 Heeft u de aflevering v...</td>\n",
       "    </tr>\n",
       "  </tbody>\n",
       "</table>\n",
       "</div>"
      ],
      "text/plain": [
       "                                               title  \\\n",
       "0  Het bericht ‘Trekker rijbewijs zorgt voor uits...   \n",
       "1  Het dreigende tekort aan stroom in België vanw...   \n",
       "2  Het gebrek aan toezicht op legionella afkomsti...   \n",
       "3      De uitzending van Zembla ‘De Kunstgrasberg’     \n",
       "4  Illegale praktijken rondom recycling van kunst...   \n",
       "\n",
       "                                            function  \\\n",
       "0  C. van Nieuwenhuizen WijbengaVVDMinister van I...   \n",
       "1  E.D. WiebesVVDMinister van Economische Zaken e...   \n",
       "2  C. van Nieuwenhuizen WijbengaVVDMinister van I...   \n",
       "3  C. van Nieuwenhuizen WijbengaVVDMinister van I...   \n",
       "4  C. van Nieuwenhuizen WijbengaVVDMinister van I...   \n",
       "\n",
       "                                            keywords  \\\n",
       "0  RIJBEWIJZEN#LANDBOUW#STAGES#INTERNATIONALISERI...   \n",
       "1  KERNENERGIE#ENERGIEVOORZIENING#BELGIË#NEDERLAN...   \n",
       "2  AFVAL#WATERZUIVERING#LEGIONELLA#NOORD-BRABANT#...   \n",
       "3  KUNSTSTOFFEN#ZWARE METALEN#GEMEENTEN#RECYCLING...   \n",
       "4  RECYCLING#KUNSTSTOFFEN#GEMEENTEN#MILIEUVERGUNN...   \n",
       "\n",
       "                                           questions  \n",
       "0  <questions><question>1 Kent u het bericht ‘Tre...  \n",
       "1  <questions><question>1 Bent u bekend met het v...  \n",
       "2  <questions><question>1 Bent u bekend met de ni...  \n",
       "3  <questions><question>1 Kent u de uitzending va...  \n",
       "4  <questions><question>1 Heeft u de aflevering v...  "
      ]
     },
     "execution_count": 142,
     "metadata": {},
     "output_type": "execute_result"
    }
   ],
   "source": [
    "questions.head(5)"
   ]
  },
  {
   "cell_type": "code",
   "execution_count": 146,
   "metadata": {},
   "outputs": [],
   "source": [
    "# Keep only the questions that reference the ministry of infrastructure\n",
    "ministry_questions = questions[questions['function'].str.lower().str.contains(\"infrastructuur en waterstaat\")]"
   ]
  },
  {
   "cell_type": "markdown",
   "metadata": {},
   "source": [
    "## Clean the keywords"
   ]
  },
  {
   "cell_type": "code",
   "execution_count": 147,
   "metadata": {},
   "outputs": [],
   "source": [
    "# Clean special characters\n",
    "ministry_questions['keywords'] = ministry_questions['keywords'].str.replace(u'\\xa0', u' ')"
   ]
  },
  {
   "cell_type": "code",
   "execution_count": 148,
   "metadata": {},
   "outputs": [],
   "source": [
    "cleaned_keywords = []\n",
    "for row in ministry_questions['keywords']:\n",
    "    keywords_list = [kw.strip() for kw in str(row).split('#')]\n",
    "    keywords_list = [kw for kw in keywords_list if kw]\n",
    "    cleaned_keywords.append('#'.join(keywords_list))"
   ]
  },
  {
   "cell_type": "code",
   "execution_count": 149,
   "metadata": {},
   "outputs": [],
   "source": [
    "ministry_questions['keywords'] = cleaned_keywords"
   ]
  },
  {
   "cell_type": "code",
   "execution_count": 150,
   "metadata": {},
   "outputs": [
    {
     "data": {
      "text/html": [
       "<div>\n",
       "<style scoped>\n",
       "    .dataframe tbody tr th:only-of-type {\n",
       "        vertical-align: middle;\n",
       "    }\n",
       "\n",
       "    .dataframe tbody tr th {\n",
       "        vertical-align: top;\n",
       "    }\n",
       "\n",
       "    .dataframe thead th {\n",
       "        text-align: right;\n",
       "    }\n",
       "</style>\n",
       "<table border=\"1\" class=\"dataframe\">\n",
       "  <thead>\n",
       "    <tr style=\"text-align: right;\">\n",
       "      <th></th>\n",
       "      <th>title</th>\n",
       "      <th>function</th>\n",
       "      <th>keywords</th>\n",
       "      <th>questions</th>\n",
       "    </tr>\n",
       "  </thead>\n",
       "  <tbody>\n",
       "    <tr>\n",
       "      <th>0</th>\n",
       "      <td>Het bericht ‘Trekker rijbewijs zorgt voor uits...</td>\n",
       "      <td>C. van Nieuwenhuizen WijbengaVVDMinister van I...</td>\n",
       "      <td>RIJBEWIJZEN#LANDBOUW#STAGES#INTERNATIONALISERI...</td>\n",
       "      <td>&lt;questions&gt;&lt;question&gt;1 Kent u het bericht ‘Tre...</td>\n",
       "    </tr>\n",
       "    <tr>\n",
       "      <th>1</th>\n",
       "      <td>Het dreigende tekort aan stroom in België vanw...</td>\n",
       "      <td>E.D. WiebesVVDMinister van Economische Zaken e...</td>\n",
       "      <td>KERNENERGIE#ENERGIEVOORZIENING#BELGIË#NEDERLAN...</td>\n",
       "      <td>&lt;questions&gt;&lt;question&gt;1 Bent u bekend met het v...</td>\n",
       "    </tr>\n",
       "    <tr>\n",
       "      <th>2</th>\n",
       "      <td>Het gebrek aan toezicht op legionella afkomsti...</td>\n",
       "      <td>C. van Nieuwenhuizen WijbengaVVDMinister van I...</td>\n",
       "      <td>AFVAL#WATERZUIVERING#LEGIONELLA#NOORD-BRABANT#...</td>\n",
       "      <td>&lt;questions&gt;&lt;question&gt;1 Bent u bekend met de ni...</td>\n",
       "    </tr>\n",
       "    <tr>\n",
       "      <th>3</th>\n",
       "      <td>De uitzending van Zembla ‘De Kunstgrasberg’</td>\n",
       "      <td>C. van Nieuwenhuizen WijbengaVVDMinister van I...</td>\n",
       "      <td>KUNSTSTOFFEN#ZWARE METALEN#GEMEENTEN#RECYCLING...</td>\n",
       "      <td>&lt;questions&gt;&lt;question&gt;1 Kent u de uitzending va...</td>\n",
       "    </tr>\n",
       "    <tr>\n",
       "      <th>4</th>\n",
       "      <td>Illegale praktijken rondom recycling van kunst...</td>\n",
       "      <td>C. van Nieuwenhuizen WijbengaVVDMinister van I...</td>\n",
       "      <td>RECYCLING#KUNSTSTOFFEN#GEMEENTEN#MILIEUVERGUNN...</td>\n",
       "      <td>&lt;questions&gt;&lt;question&gt;1 Heeft u de aflevering v...</td>\n",
       "    </tr>\n",
       "  </tbody>\n",
       "</table>\n",
       "</div>"
      ],
      "text/plain": [
       "                                               title  \\\n",
       "0  Het bericht ‘Trekker rijbewijs zorgt voor uits...   \n",
       "1  Het dreigende tekort aan stroom in België vanw...   \n",
       "2  Het gebrek aan toezicht op legionella afkomsti...   \n",
       "3      De uitzending van Zembla ‘De Kunstgrasberg’     \n",
       "4  Illegale praktijken rondom recycling van kunst...   \n",
       "\n",
       "                                            function  \\\n",
       "0  C. van Nieuwenhuizen WijbengaVVDMinister van I...   \n",
       "1  E.D. WiebesVVDMinister van Economische Zaken e...   \n",
       "2  C. van Nieuwenhuizen WijbengaVVDMinister van I...   \n",
       "3  C. van Nieuwenhuizen WijbengaVVDMinister van I...   \n",
       "4  C. van Nieuwenhuizen WijbengaVVDMinister van I...   \n",
       "\n",
       "                                            keywords  \\\n",
       "0  RIJBEWIJZEN#LANDBOUW#STAGES#INTERNATIONALISERI...   \n",
       "1  KERNENERGIE#ENERGIEVOORZIENING#BELGIË#NEDERLAN...   \n",
       "2  AFVAL#WATERZUIVERING#LEGIONELLA#NOORD-BRABANT#...   \n",
       "3  KUNSTSTOFFEN#ZWARE METALEN#GEMEENTEN#RECYCLING...   \n",
       "4  RECYCLING#KUNSTSTOFFEN#GEMEENTEN#MILIEUVERGUNN...   \n",
       "\n",
       "                                           questions  \n",
       "0  <questions><question>1 Kent u het bericht ‘Tre...  \n",
       "1  <questions><question>1 Bent u bekend met het v...  \n",
       "2  <questions><question>1 Bent u bekend met de ni...  \n",
       "3  <questions><question>1 Kent u de uitzending va...  \n",
       "4  <questions><question>1 Heeft u de aflevering v...  "
      ]
     },
     "execution_count": 150,
     "metadata": {},
     "output_type": "execute_result"
    }
   ],
   "source": [
    "ministry_questions.head()"
   ]
  },
  {
   "cell_type": "code",
   "execution_count": 151,
   "metadata": {},
   "outputs": [],
   "source": [
    "ministry_questions.to_csv('../../data/question_data_cleaned.csv', sep=';', index=False)"
   ]
  },
  {
   "cell_type": "markdown",
   "metadata": {},
   "source": [
    "## Testing the xml parsing"
   ]
  },
  {
   "cell_type": "code",
   "execution_count": null,
   "metadata": {},
   "outputs": [],
   "source": [
    "from xml.dom import minidom\n",
    "questions = ministry_questions['questions']\n",
    "\n",
    "for qDoc in questions:\n",
    "    xmldoc = minidom.parseString(qDoc)\n",
    "    document = xmldoc.getElementsByTagName('questions')[0]\n",
    "    for question in document.childNodes:\n",
    "        print(question.childNodes[0].nodeValue)\n",
    "    print('----------')"
   ]
  },
  {
   "cell_type": "code",
   "execution_count": 163,
   "metadata": {},
   "outputs": [
    {
     "data": {
      "text/plain": [
       "title        Het bericht 'Nederlands rijbewijs online te ko...\n",
       "function     F.B.J. GrapperhausCDAMinister van Justitie en ...\n",
       "keywords                                                   nan\n",
       "questions    <questions><question>1 Heeft u kennisgenomen v...\n",
       "Name: 36, dtype: object"
      ]
     },
     "execution_count": 163,
     "metadata": {},
     "output_type": "execute_result"
    }
   ],
   "source": [
    "ministry_questions.loc[36]"
   ]
  },
  {
   "cell_type": "code",
   "execution_count": null,
   "metadata": {},
   "outputs": [],
   "source": []
  }
 ],
 "metadata": {
  "kernelspec": {
   "display_name": "Python 3",
   "language": "python",
   "name": "python3"
  },
  "language_info": {
   "codemirror_mode": {
    "name": "ipython",
    "version": 3
   },
   "file_extension": ".py",
   "mimetype": "text/x-python",
   "name": "python",
   "nbconvert_exporter": "python",
   "pygments_lexer": "ipython3",
   "version": "3.6.6"
  }
 },
 "nbformat": 4,
 "nbformat_minor": 2
}
